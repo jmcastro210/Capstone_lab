{
 "cells": [
  {
   "cell_type": "markdown",
   "metadata": {},
   "source": [
    "<p style=\"text-align:center\">\n",
    "    <a href=\"https://skills.network/?utm_medium=Exinfluencer&utm_source=Exinfluencer&utm_content=000026UJ&utm_term=10006555&utm_id=NA-SkillsNetwork-Channel-SkillsNetworkCoursesIBMDA0321ENSkillsNetwork928-2022-01-01\" target=\"_blank\">\n",
    "    <img src=\"https://cf-courses-data.s3.us.cloud-object-storage.appdomain.cloud/assets/logos/SN_web_lightmode.png\" width=\"200\" alt=\"Skills Network Logo\"  />\n",
    "    </a>\n",
    "</p>\n"
   ]
  },
  {
   "cell_type": "markdown",
   "metadata": {},
   "source": [
    "# **Web Scraping Lab**\n"
   ]
  },
  {
   "cell_type": "markdown",
   "metadata": {},
   "source": [
    "Estimated time needed: **30** minutes\n"
   ]
  },
  {
   "cell_type": "markdown",
   "metadata": {},
   "source": [
    "## Objectives\n"
   ]
  },
  {
   "cell_type": "markdown",
   "metadata": {},
   "source": [
    "After completing this lab, you will be able to:\n"
   ]
  },
  {
   "cell_type": "markdown",
   "metadata": {},
   "source": [
    "* Download a webpage using requests module\n",
    "* Scrape all links from a webpage\n",
    "* Scrape all image URLs from a web page\n",
    "* Scrape data from html tables\n"
   ]
  },
  {
   "cell_type": "markdown",
   "metadata": {},
   "source": [
    "## Scrape www.ibm.com\n"
   ]
  },
  {
   "cell_type": "markdown",
   "metadata": {},
   "source": [
    "Import the required modules and functions\n"
   ]
  },
  {
   "cell_type": "code",
   "execution_count": 1,
   "metadata": {},
   "outputs": [],
   "source": [
    "from bs4 import BeautifulSoup # this module helps in web scrapping.\n",
    "import requests  # this module helps us to download a webpage"
   ]
  },
  {
   "cell_type": "markdown",
   "metadata": {},
   "source": [
    "Download the contents of the webpage\n"
   ]
  },
  {
   "cell_type": "code",
   "execution_count": 2,
   "metadata": {},
   "outputs": [],
   "source": [
    "url = \"http://www.ibm.com\""
   ]
  },
  {
   "cell_type": "code",
   "execution_count": 3,
   "metadata": {},
   "outputs": [],
   "source": [
    "# get the contents of the webpage in text format and store in a variable called data\n",
    "data  = requests.get(url).text "
   ]
  },
  {
   "cell_type": "markdown",
   "metadata": {},
   "source": [
    "Create a soup object using the class BeautifulSoup\n"
   ]
  },
  {
   "cell_type": "code",
   "execution_count": 4,
   "metadata": {},
   "outputs": [],
   "source": [
    "soup = BeautifulSoup(data,\"html.parser\")  # create a soup object using the variable 'data'"
   ]
  },
  {
   "cell_type": "markdown",
   "metadata": {},
   "source": [
    "Scrape all links\n"
   ]
  },
  {
   "cell_type": "code",
   "execution_count": 5,
   "metadata": {},
   "outputs": [
    {
     "name": "stdout",
     "output_type": "stream",
     "text": [
      "https://www.ibm.com/reports/data-breach?lnk=hpls1us\n",
      "https://www.ibm.com/products/guardium-ai-security?lnk=hpls2us\n",
      "https://ibm.webcasts.com/starthere.jsp?ei=1726278&tp_key=0445cec615&lnk=hprc1us\n",
      "https://www.ibm.com/think/podcasts/ai-in-action/ai-against-ai-based-cybersecurity?lnk=hprc2us\n",
      "https://www.ibm.com/products/watsonx-governance?lnk=hprc3us\n",
      "https://www.ibm.com/training/security?lnk=hprc4us\n",
      "https://www.ibm.com/granite?lnk=hpdev1us\n",
      "https://developer.ibm.com/technologies/artificial-intelligence/?lnk=hpdev2us\n",
      "https://skillsbuild.org/?lnk=hpdev3us\n",
      "https://www.ibm.com/new/announcements/agentic-ai-governance-evaluation-and-lifecycle?lnk=hpdev4us\n",
      "https://research.ibm.com/blog/granite-vision-ocr-leaderboard?lnk=hpdev5us\n",
      "https://www.ibm.com/new/announcements/ibm-named-a-leader-in-the-2025-gartner-magic-quadrant-for-data-science-and-machine-learning-platforms?lnk=hpdev6us\n",
      "https://www.ibm.com/new/announcements/ibm-named-a-leader-in-the-2025-idc-marketscape?lnk=hpdev7us\n",
      "https://www.ibm.com/products/watsonx-code-assistant/pricing?lnk=hpdev8us\n",
      "https://www.ibm.com/products/spss-statistics?lnk=hppr1us\n",
      "https://www.ibm.com/software?lnk=hpfp1us\n",
      "https://www.ibm.com/artificial-intelligence?lnk=hpfp2us\n",
      "https://www.ibm.com/granite?lnk=hpfp3us\n",
      "https://www.ibm.com/consulting?lnk=hpfp4us\n",
      "https://www.ibm.com/solutions/analytics?lnk=hpfp5us\n",
      "https://www.ibm.com/solutions/automation?lnk=hpfp6us\n",
      "https://www.ibm.com/solutions/servers?lnk=hpfp7us\n",
      "https://www.ibm.com/solutions/data-and-ai?lnk=hpfp8us\n",
      "https://www.ibm.com/solutions/security?lnk=hpfp9us\n",
      "https://www.ibm.com/about?lnk=hpii1us\n",
      "https://www.ibm.com/history?lnk=hpii1us\n",
      "https://research.ibm.com?lnk=hpii1us\n",
      "https://www.ibm.com/quantum?lnk=hpii1us\n",
      "https://www.ibm.com/careers?lnk=hpii1us\n",
      "https://skillsbuild.org?lnk=hpii1us\n"
     ]
    }
   ],
   "source": [
    "for link in soup.find_all('a'):  # in html anchor/link is represented by the tag <a>\n",
    "    print(link.get('href'))"
   ]
  },
  {
   "cell_type": "markdown",
   "metadata": {},
   "source": [
    "Scrape  all images\n"
   ]
  },
  {
   "cell_type": "code",
   "execution_count": 6,
   "metadata": {},
   "outputs": [
    {
     "name": "stdout",
     "output_type": "stream",
     "text": [
      "https://assets.ibm.com/is/image/ibm/security-summit-illo-1-1?ts=1753875050037&dpr=off\n",
      "https://assets.ibm.com/is/image/ibm/20210329-f-security-suite-webinar-25817?ts=1753875055486&dpr=off\n",
      "https://assets.ibm.com/is/image/ibm/verify-feature-identity-governance-1-1?ts=1753875056258&dpr=off\n",
      "https://assets.ibm.com/is/image/ibm/ai-for-developers-1-1?ts=1753875060207&dpr=off\n",
      "https://assets.ibm.com/is/image/ibm/spss-screenshot-2-title?ts=1753875074375&dpr=off\n"
     ]
    }
   ],
   "source": [
    "for link in soup.find_all('img'):# in html image is represented by the tag <img>\n",
    "    print(link.get('src'))"
   ]
  },
  {
   "cell_type": "markdown",
   "metadata": {},
   "source": [
    "## Scrape data from html tables\n"
   ]
  },
  {
   "cell_type": "code",
   "execution_count": 7,
   "metadata": {},
   "outputs": [],
   "source": [
    "#The below URL contains a html table with data about colors and color codes.\n",
    "URL = \"https://cf-courses-data.s3.us.cloud-object-storage.appdomain.cloud/IBM-DA0321EN-SkillsNetwork/labs/datasets/HTMLColorCodes.html\"\n"
   ]
  },
  {
   "cell_type": "markdown",
   "metadata": {},
   "source": [
    "Before proceeding to scrape a website, you need to examine the contents, and the way data is organized on the website. Open the above URL in your browser and check how many rows and columns are there in the color table.\n"
   ]
  },
  {
   "cell_type": "code",
   "execution_count": 8,
   "metadata": {},
   "outputs": [],
   "source": [
    "# get the contents of the webpage in text format and store in a variable called data\n",
    "data  = requests.get(URL).text"
   ]
  },
  {
   "cell_type": "code",
   "execution_count": 9,
   "metadata": {
    "scrolled": true
   },
   "outputs": [
    {
     "name": "stdout",
     "output_type": "stream",
     "text": [
      "<html>\n",
      "   <body>\n",
      "      <h1>Partital List  of HTML5 Supported Colors</h1>\n",
      "<table border =\"1\" class=\"main-table\">\n",
      "   <tr>\n",
      "      <td>Number </td>\n",
      "      <td>Color</td>\n",
      "      <td>Color Name</td>\n",
      "      <td>Hex Code<br>#RRGGBB</td>\n",
      "      <td>Decimal Code<br>(R,G,B)</td>\n",
      "   </tr>\n",
      "   <tr>\n",
      "      <td>1</td>\n",
      "      <td style=\"background:lightsalmon;\">&nbsp;</td>\n",
      "      <td>lightsalmon</td>\n",
      "      <td>#FFA07A</td>\n",
      "      <td>rgb(255,160,122)</td>\n",
      "   </tr>\n",
      "   <tr>\n",
      "      <td>2</td>\n",
      "      <td style=\"background:salmon;\">&nbsp;</td>\n",
      "      <td>salmon</td>\n",
      "      <td>#FA8072</td>\n",
      "      <td>rgb(250,128,114)</td>\n",
      "   </tr>\n",
      "   <tr>\n",
      "      <td>3</td>\n",
      "      <td style=\"background:darksalmon;\">&nbsp;</td>\n",
      "      <td>darksalmon</td>\n",
      "      <td>#E9967A</td>\n",
      "      <td>rgb(233,150,122)</td>\n",
      "   </tr>\n",
      "   <tr>\n",
      "      <td>4</td>\n",
      "      <td style=\"background:lightcoral;\">&nbsp;</td>\n",
      "      <td>lightcoral</td>\n",
      "      <td>#F08080</td>\n",
      "      <td>rgb(240,128,128)</td>\n",
      "   </tr>\n",
      "   <tr>\n",
      "      <td>5</td>\n",
      "      <td style=\"background:coral;\">&nbsp;</td>\n",
      "      <td>coral</td>\n",
      "      <td>#FF7F50</td>\n",
      "      <td>rgb(255,127,80)</td>\n",
      "   </tr>\n",
      "   <tr>\n",
      "      <td>6</td>\n",
      "      <td style=\"background:tomato;\">&nbsp;</td>\n",
      "      <td>tomato</td>\n",
      "      <td>#FF6347</td>\n",
      "      <td>rgb(255,99,71)</td>\n",
      "   </tr>\n",
      "   <tr>\n",
      "      <td>7</td>\n",
      "      <td style=\"background:orangered;\">&nbsp;</td>\n",
      "      <td>orangered</td>\n",
      "      <td>#FF4500</td>\n",
      "      <td>rgb(255,69,0)</td>\n",
      "   </tr>\n",
      "   <tr>\n",
      "      <td>8</td>\n",
      "      <td style=\"background:gold;\">&nbsp;</td>\n",
      "      <td>gold</td>\n",
      "      <td>#FFD700</td>\n",
      "      <td>rgb(255,215,0)</td>\n",
      "   </tr>\n",
      "   <tr>\n",
      "      <td>9</td>\n",
      "      <td style=\"background:orange;\">&nbsp;</td>\n",
      "      <td>orange</td>\n",
      "      <td>#FFA500</td>\n",
      "      <td>rgb(255,165,0)</td>\n",
      "   </tr>\n",
      "   <tr>\n",
      "      <td>10</td>\n",
      "      <td style=\"background:darkorange;\">&nbsp;</td>\n",
      "      <td>darkorange</td>\n",
      "      <td>#FF8C00</td>\n",
      "      <td>rgb(255,140,0)</td>\n",
      "   </tr>\n",
      "   <tr>\n",
      "      <td>11</td>\n",
      "      <td style=\"background:lightyellow;\">&nbsp;</td>\n",
      "      <td>lightyellow</td>\n",
      "      <td>#FFFFE0</td>\n",
      "      <td>rgb(255,255,224)</td>\n",
      "   </tr>\n",
      "   <tr>\n",
      "      <td>12</td>\n",
      "      <td style=\"background:lemonchiffon;\">&nbsp;</td>\n",
      "      <td>lemonchiffon</td>\n",
      "      <td>#FFFACD</td>\n",
      "      <td>rgb(255,250,205)</td>\n",
      "   </tr>\n",
      "   <tr>\n",
      "      <td>13</td>\n",
      "      <td style=\"background:papayawhip;\">&nbsp;</td>\n",
      "      <td>papayawhip</td>\n",
      "      <td>#FFEFD5</td>\n",
      "      <td>rgb(255,239,213)</td>\n",
      "   </tr>\n",
      "   <tr>\n",
      "      <td>14</td>\n",
      "      <td style=\"background:moccasin;\">&nbsp;</td>\n",
      "      <td>moccasin</td>\n",
      "      <td>#FFE4B5</td>\n",
      "      <td>rgb(255,228,181)</td>\n",
      "   </tr>\n",
      "   <tr>\n",
      "      <td>15</td>\n",
      "      <td style=\"background:peachpuff;\">&nbsp;</td>\n",
      "      <td>peachpuff</td>\n",
      "      <td>#FFDAB9</td>\n",
      "      <td>rgb(255,218,185)</td>\n",
      "   </tr>\n",
      "   <tr>\n",
      "      <td>16</td>\n",
      "      <td style=\"background:palegoldenrod;\">&nbsp;</td>\n",
      "      <td>palegoldenrod</td>\n",
      "      <td>#EEE8AA</td>\n",
      "      <td>rgb(238,232,170)</td>\n",
      "   </tr>\n",
      "   <tr>\n",
      "      <td>17</td>\n",
      "      <td style=\"background:khaki;\">&nbsp;</td>\n",
      "      <td>khaki</td>\n",
      "      <td>#F0E68C</td>\n",
      "      <td>rgb(240,230,140)</td>\n",
      "   </tr>\n",
      "   <tr>\n",
      "      <td>18</td>\n",
      "      <td style=\"background:darkkhaki;\">&nbsp;</td>\n",
      "      <td>darkkhaki</td>\n",
      "      <td>#BDB76B</td>\n",
      "      <td>rgb(189,183,107)</td>\n",
      "   </tr>\n",
      "   <tr>\n",
      "      <td>19</td>\n",
      "      <td style=\"background:yellow;\">&nbsp;</td>\n",
      "      <td>yellow</td>\n",
      "      <td>#FFFF00</td>\n",
      "      <td>rgb(255,255,0)</td>\n",
      "   </tr>\n",
      "   <tr>\n",
      "      <td>20</td>\n",
      "      <td style=\"background:lawngreen;\">&nbsp;</td>\n",
      "      <td>lawngreen</td>\n",
      "      <td>#7CFC00</td>\n",
      "      <td>rgb(124,252,0)</td>\n",
      "   </tr>\n",
      "   <tr>\n",
      "      <td>21</td>\n",
      "      <td style=\"background:chartreuse;\">&nbsp;</td>\n",
      "      <td>chartreuse</td>\n",
      "      <td>#7FFF00</td>\n",
      "      <td>rgb(127,255,0)</td>\n",
      "   </tr>\n",
      "   <tr>\n",
      "      <td>22</td>\n",
      "      <td style=\"background:limegreen;\">&nbsp;</td>\n",
      "      <td>limegreen</td>\n",
      "      <td>#32CD32</td>\n",
      "      <td>rgb(50,205,50)</td>\n",
      "   </tr>\n",
      "   <tr>\n",
      "      <td>23</td>\n",
      "      <td style=\"background:lime;\">&nbsp;</td>\n",
      "      <td>lime</td>\n",
      "      <td>#00FF00</td>\n",
      "      <td>rgb(0.255.0)</td>\n",
      "   </tr>\n",
      "   <tr>\n",
      "      <td>24</td>\n",
      "      <td style=\"background:forestgreen;\">&nbsp;</td>\n",
      "      <td>forestgreen</td>\n",
      "      <td>#228B22</td>\n",
      "      <td>rgb(34,139,34)</td>\n",
      "   </tr>\n",
      "   <tr>\n",
      "      <td>25</td>\n",
      "      <td style=\"background:green;\">&nbsp;</td>\n",
      "      <td>green</td>\n",
      "      <td>#008000</td>\n",
      "      <td>rgb(0,128,0)</td>\n",
      "   </tr>\n",
      "   <tr>\n",
      "      <td>26</td>\n",
      "      <td style=\"background:powderblue;\">&nbsp;</td>\n",
      "      <td>powderblue</td>\n",
      "      <td>#B0E0E6</td>\n",
      "      <td>rgb(176,224,230)</td>\n",
      "   </tr>\n",
      "   <tr>\n",
      "      <td>27</td>\n",
      "      <td style=\"background:lightblue;\">&nbsp;</td>\n",
      "      <td>lightblue</td>\n",
      "      <td>#ADD8E6</td>\n",
      "      <td>rgb(173,216,230)</td>\n",
      "   </tr>\n",
      "   <tr>\n",
      "      <td>28</td>\n",
      "      <td style=\"background:lightskyblue;\">&nbsp;</td>\n",
      "      <td>lightskyblue</td>\n",
      "      <td>#87CEFA</td>\n",
      "      <td>rgb(135,206,250)</td>\n",
      "   </tr>\n",
      "   <tr>\n",
      "      <td>29</td>\n",
      "      <td style=\"background:skyblue;\">&nbsp;</td>\n",
      "      <td>skyblue</td>\n",
      "      <td>#87CEEB</td>\n",
      "      <td>rgb(135,206,235)</td>\n",
      "   </tr>\n",
      "   <tr>\n",
      "      <td>30</td>\n",
      "      <td style=\"background:deepskyblue;\">&nbsp;</td>\n",
      "      <td>deepskyblue</td>\n",
      "      <td>#00BFFF</td>\n",
      "      <td>rgb(0,191,255)</td>\n",
      "   </tr>\n",
      "   <tr>\n",
      "      <td>31</td>\n",
      "      <td style=\"background:lightsteelblue;\">&nbsp;</td>\n",
      "      <td>lightsteelblue</td>\n",
      "      <td>#B0C4DE</td>\n",
      "      <td>rgb(176,196,222)</td>\n",
      "   </tr>\n",
      "   <tr>\n",
      "      <td>32</td>\n",
      "      <td style=\"background:dodgerblue;\">&nbsp;</td>\n",
      "      <td>dodgerblue</td>\n",
      "      <td>#1E90FF</td>\n",
      "      <td>rgb(30,144,255)</td>\n",
      "   </tr>\n",
      "</table>\n",
      "   </body>\n",
      "</html>\n"
     ]
    }
   ],
   "source": [
    "print(data)"
   ]
  },
  {
   "cell_type": "code",
   "execution_count": 10,
   "metadata": {},
   "outputs": [],
   "source": [
    "soup = BeautifulSoup(data,\"html.parser\")"
   ]
  },
  {
   "cell_type": "code",
   "execution_count": 11,
   "metadata": {},
   "outputs": [],
   "source": [
    "#find a html table in the web page\n",
    "table = soup.find('table') # in html table is represented by the tag <table>"
   ]
  },
  {
   "cell_type": "code",
   "execution_count": 12,
   "metadata": {
    "scrolled": true
   },
   "outputs": [
    {
     "name": "stdout",
     "output_type": "stream",
     "text": [
      "<table border=\"1\" class=\"main-table\">\n",
      "<tr>\n",
      "<td>Number </td>\n",
      "<td>Color</td>\n",
      "<td>Color Name</td>\n",
      "<td>Hex Code<br/>#RRGGBB</td>\n",
      "<td>Decimal Code<br/>(R,G,B)</td>\n",
      "</tr>\n",
      "<tr>\n",
      "<td>1</td>\n",
      "<td style=\"background:lightsalmon;\"> </td>\n",
      "<td>lightsalmon</td>\n",
      "<td>#FFA07A</td>\n",
      "<td>rgb(255,160,122)</td>\n",
      "</tr>\n",
      "<tr>\n",
      "<td>2</td>\n",
      "<td style=\"background:salmon;\"> </td>\n",
      "<td>salmon</td>\n",
      "<td>#FA8072</td>\n",
      "<td>rgb(250,128,114)</td>\n",
      "</tr>\n",
      "<tr>\n",
      "<td>3</td>\n",
      "<td style=\"background:darksalmon;\"> </td>\n",
      "<td>darksalmon</td>\n",
      "<td>#E9967A</td>\n",
      "<td>rgb(233,150,122)</td>\n",
      "</tr>\n",
      "<tr>\n",
      "<td>4</td>\n",
      "<td style=\"background:lightcoral;\"> </td>\n",
      "<td>lightcoral</td>\n",
      "<td>#F08080</td>\n",
      "<td>rgb(240,128,128)</td>\n",
      "</tr>\n",
      "<tr>\n",
      "<td>5</td>\n",
      "<td style=\"background:coral;\"> </td>\n",
      "<td>coral</td>\n",
      "<td>#FF7F50</td>\n",
      "<td>rgb(255,127,80)</td>\n",
      "</tr>\n",
      "<tr>\n",
      "<td>6</td>\n",
      "<td style=\"background:tomato;\"> </td>\n",
      "<td>tomato</td>\n",
      "<td>#FF6347</td>\n",
      "<td>rgb(255,99,71)</td>\n",
      "</tr>\n",
      "<tr>\n",
      "<td>7</td>\n",
      "<td style=\"background:orangered;\"> </td>\n",
      "<td>orangered</td>\n",
      "<td>#FF4500</td>\n",
      "<td>rgb(255,69,0)</td>\n",
      "</tr>\n",
      "<tr>\n",
      "<td>8</td>\n",
      "<td style=\"background:gold;\"> </td>\n",
      "<td>gold</td>\n",
      "<td>#FFD700</td>\n",
      "<td>rgb(255,215,0)</td>\n",
      "</tr>\n",
      "<tr>\n",
      "<td>9</td>\n",
      "<td style=\"background:orange;\"> </td>\n",
      "<td>orange</td>\n",
      "<td>#FFA500</td>\n",
      "<td>rgb(255,165,0)</td>\n",
      "</tr>\n",
      "<tr>\n",
      "<td>10</td>\n",
      "<td style=\"background:darkorange;\"> </td>\n",
      "<td>darkorange</td>\n",
      "<td>#FF8C00</td>\n",
      "<td>rgb(255,140,0)</td>\n",
      "</tr>\n",
      "<tr>\n",
      "<td>11</td>\n",
      "<td style=\"background:lightyellow;\"> </td>\n",
      "<td>lightyellow</td>\n",
      "<td>#FFFFE0</td>\n",
      "<td>rgb(255,255,224)</td>\n",
      "</tr>\n",
      "<tr>\n",
      "<td>12</td>\n",
      "<td style=\"background:lemonchiffon;\"> </td>\n",
      "<td>lemonchiffon</td>\n",
      "<td>#FFFACD</td>\n",
      "<td>rgb(255,250,205)</td>\n",
      "</tr>\n",
      "<tr>\n",
      "<td>13</td>\n",
      "<td style=\"background:papayawhip;\"> </td>\n",
      "<td>papayawhip</td>\n",
      "<td>#FFEFD5</td>\n",
      "<td>rgb(255,239,213)</td>\n",
      "</tr>\n",
      "<tr>\n",
      "<td>14</td>\n",
      "<td style=\"background:moccasin;\"> </td>\n",
      "<td>moccasin</td>\n",
      "<td>#FFE4B5</td>\n",
      "<td>rgb(255,228,181)</td>\n",
      "</tr>\n",
      "<tr>\n",
      "<td>15</td>\n",
      "<td style=\"background:peachpuff;\"> </td>\n",
      "<td>peachpuff</td>\n",
      "<td>#FFDAB9</td>\n",
      "<td>rgb(255,218,185)</td>\n",
      "</tr>\n",
      "<tr>\n",
      "<td>16</td>\n",
      "<td style=\"background:palegoldenrod;\"> </td>\n",
      "<td>palegoldenrod</td>\n",
      "<td>#EEE8AA</td>\n",
      "<td>rgb(238,232,170)</td>\n",
      "</tr>\n",
      "<tr>\n",
      "<td>17</td>\n",
      "<td style=\"background:khaki;\"> </td>\n",
      "<td>khaki</td>\n",
      "<td>#F0E68C</td>\n",
      "<td>rgb(240,230,140)</td>\n",
      "</tr>\n",
      "<tr>\n",
      "<td>18</td>\n",
      "<td style=\"background:darkkhaki;\"> </td>\n",
      "<td>darkkhaki</td>\n",
      "<td>#BDB76B</td>\n",
      "<td>rgb(189,183,107)</td>\n",
      "</tr>\n",
      "<tr>\n",
      "<td>19</td>\n",
      "<td style=\"background:yellow;\"> </td>\n",
      "<td>yellow</td>\n",
      "<td>#FFFF00</td>\n",
      "<td>rgb(255,255,0)</td>\n",
      "</tr>\n",
      "<tr>\n",
      "<td>20</td>\n",
      "<td style=\"background:lawngreen;\"> </td>\n",
      "<td>lawngreen</td>\n",
      "<td>#7CFC00</td>\n",
      "<td>rgb(124,252,0)</td>\n",
      "</tr>\n",
      "<tr>\n",
      "<td>21</td>\n",
      "<td style=\"background:chartreuse;\"> </td>\n",
      "<td>chartreuse</td>\n",
      "<td>#7FFF00</td>\n",
      "<td>rgb(127,255,0)</td>\n",
      "</tr>\n",
      "<tr>\n",
      "<td>22</td>\n",
      "<td style=\"background:limegreen;\"> </td>\n",
      "<td>limegreen</td>\n",
      "<td>#32CD32</td>\n",
      "<td>rgb(50,205,50)</td>\n",
      "</tr>\n",
      "<tr>\n",
      "<td>23</td>\n",
      "<td style=\"background:lime;\"> </td>\n",
      "<td>lime</td>\n",
      "<td>#00FF00</td>\n",
      "<td>rgb(0.255.0)</td>\n",
      "</tr>\n",
      "<tr>\n",
      "<td>24</td>\n",
      "<td style=\"background:forestgreen;\"> </td>\n",
      "<td>forestgreen</td>\n",
      "<td>#228B22</td>\n",
      "<td>rgb(34,139,34)</td>\n",
      "</tr>\n",
      "<tr>\n",
      "<td>25</td>\n",
      "<td style=\"background:green;\"> </td>\n",
      "<td>green</td>\n",
      "<td>#008000</td>\n",
      "<td>rgb(0,128,0)</td>\n",
      "</tr>\n",
      "<tr>\n",
      "<td>26</td>\n",
      "<td style=\"background:powderblue;\"> </td>\n",
      "<td>powderblue</td>\n",
      "<td>#B0E0E6</td>\n",
      "<td>rgb(176,224,230)</td>\n",
      "</tr>\n",
      "<tr>\n",
      "<td>27</td>\n",
      "<td style=\"background:lightblue;\"> </td>\n",
      "<td>lightblue</td>\n",
      "<td>#ADD8E6</td>\n",
      "<td>rgb(173,216,230)</td>\n",
      "</tr>\n",
      "<tr>\n",
      "<td>28</td>\n",
      "<td style=\"background:lightskyblue;\"> </td>\n",
      "<td>lightskyblue</td>\n",
      "<td>#87CEFA</td>\n",
      "<td>rgb(135,206,250)</td>\n",
      "</tr>\n",
      "<tr>\n",
      "<td>29</td>\n",
      "<td style=\"background:skyblue;\"> </td>\n",
      "<td>skyblue</td>\n",
      "<td>#87CEEB</td>\n",
      "<td>rgb(135,206,235)</td>\n",
      "</tr>\n",
      "<tr>\n",
      "<td>30</td>\n",
      "<td style=\"background:deepskyblue;\"> </td>\n",
      "<td>deepskyblue</td>\n",
      "<td>#00BFFF</td>\n",
      "<td>rgb(0,191,255)</td>\n",
      "</tr>\n",
      "<tr>\n",
      "<td>31</td>\n",
      "<td style=\"background:lightsteelblue;\"> </td>\n",
      "<td>lightsteelblue</td>\n",
      "<td>#B0C4DE</td>\n",
      "<td>rgb(176,196,222)</td>\n",
      "</tr>\n",
      "<tr>\n",
      "<td>32</td>\n",
      "<td style=\"background:dodgerblue;\"> </td>\n",
      "<td>dodgerblue</td>\n",
      "<td>#1E90FF</td>\n",
      "<td>rgb(30,144,255)</td>\n",
      "</tr>\n",
      "</table>\n"
     ]
    }
   ],
   "source": [
    "print(table)"
   ]
  },
  {
   "cell_type": "markdown",
   "metadata": {},
   "source": [
    "# Get all rows from the table\n"
   ]
  },
  {
   "cell_type": "code",
   "execution_count": 13,
   "metadata": {},
   "outputs": [
    {
     "name": "stdout",
     "output_type": "stream",
     "text": [
      "Color Name--->Hex Code#RRGGBB\n",
      "lightsalmon--->#FFA07A\n",
      "salmon--->#FA8072\n",
      "darksalmon--->#E9967A\n",
      "lightcoral--->#F08080\n",
      "coral--->#FF7F50\n",
      "tomato--->#FF6347\n",
      "orangered--->#FF4500\n",
      "gold--->#FFD700\n",
      "orange--->#FFA500\n",
      "darkorange--->#FF8C00\n",
      "lightyellow--->#FFFFE0\n",
      "lemonchiffon--->#FFFACD\n",
      "papayawhip--->#FFEFD5\n",
      "moccasin--->#FFE4B5\n",
      "peachpuff--->#FFDAB9\n",
      "palegoldenrod--->#EEE8AA\n",
      "khaki--->#F0E68C\n",
      "darkkhaki--->#BDB76B\n",
      "yellow--->#FFFF00\n",
      "lawngreen--->#7CFC00\n",
      "chartreuse--->#7FFF00\n",
      "limegreen--->#32CD32\n",
      "lime--->#00FF00\n",
      "forestgreen--->#228B22\n",
      "green--->#008000\n",
      "powderblue--->#B0E0E6\n",
      "lightblue--->#ADD8E6\n",
      "lightskyblue--->#87CEFA\n",
      "skyblue--->#87CEEB\n",
      "deepskyblue--->#00BFFF\n",
      "lightsteelblue--->#B0C4DE\n",
      "dodgerblue--->#1E90FF\n"
     ]
    }
   ],
   "source": [
    "for row in table.find_all('tr'): # in html table row is represented by the tag <tr>\n",
    "    # Get all columns in each row.\n",
    "    cols = row.find_all('td') # in html a column is represented by the tag <td>\n",
    "    color_name = cols[2].getText() # store the value in column 3 as color_name\n",
    "    color_code = cols[3].getText() # store the value in column 4 as color_code\n",
    "    print(\"{}--->{}\".format(color_name,color_code))"
   ]
  },
  {
   "cell_type": "markdown",
   "metadata": {},
   "source": [
    "## Authors\n"
   ]
  },
  {
   "cell_type": "markdown",
   "metadata": {},
   "source": [
    "Ramesh Sannareddy\n"
   ]
  },
  {
   "cell_type": "markdown",
   "metadata": {},
   "source": [
    "### Other Contributors\n"
   ]
  },
  {
   "cell_type": "markdown",
   "metadata": {},
   "source": [
    "Rav Ahuja\n"
   ]
  },
  {
   "cell_type": "markdown",
   "metadata": {},
   "source": [
    "<!--\n",
    "## Change Log\n",
    "|  Date (YYYY-MM-DD) |  Version | Changed By  |  Change Description |\n",
    "|---|---|---|---|\n",
    "| 2024-10-29  | 0.2  | Madhusudhan Moole |  Updated lab |\n",
    "| 2020-10-17  | 0.1  | Ramesh Sannareddy  |  Created initial version of the lab |\n",
    "--!>\n"
   ]
  },
  {
   "cell_type": "markdown",
   "metadata": {},
   "source": [
    "Copyright © IBM Corporation. All rights reserved.\n"
   ]
  }
 ],
 "metadata": {
  "kernelspec": {
   "display_name": "Python 3 (ipykernel)",
   "language": "python",
   "name": "python3"
  },
  "language_info": {
   "codemirror_mode": {
    "name": "ipython",
    "version": 3
   },
   "file_extension": ".py",
   "mimetype": "text/x-python",
   "name": "python",
   "nbconvert_exporter": "python",
   "pygments_lexer": "ipython3",
   "version": "3.12.8"
  },
  "prev_pub_hash": "47f9ffc1b763f98e682ac3a01d2e9180987012a5e050cb2d84fe1df3c67f42fb"
 },
 "nbformat": 4,
 "nbformat_minor": 4
}
